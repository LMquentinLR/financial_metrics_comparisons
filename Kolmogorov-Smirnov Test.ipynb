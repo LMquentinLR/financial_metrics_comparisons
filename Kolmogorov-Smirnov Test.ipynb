{
 "cells": [
  {
   "cell_type": "markdown",
   "metadata": {},
   "source": [
    "# Kolmogorov-Smirnov (K-S) test"
   ]
  },
  {
   "cell_type": "markdown",
   "metadata": {},
   "source": [
    "The K-S test (Chakravart, Laha, and Roy, 1967) is used to decide if a sample comes from a population with a specific distribution. The K-S test is based on the empirical distribution function (ECDF). Given N ordered data points $Y_1$, $Y_2$, ..., $Y_N$, the ECDF is defined as:\n",
    "\n",
    "$EN=n(i)/N$\n",
    "\n",
    "where $n(i)$ is the number of points less than $Y_i$ and the $Y_i$ are ordered from smallest to largest value. This is a step function that increases by $1/N$ at the value of each ordered data point. The graph below is a plot of the empirical distribution function with a normal cumulative distribution function for 100 normal random numbers. The K-S test is based on the maximum distance between these two curves."
   ]
  },
  {
   "cell_type": "code",
   "execution_count": 1,
   "metadata": {},
   "outputs": [],
   "source": [
    "from IPython.display import Image\n",
    "import matplotlib.pyplot as plt\n",
    "import math\n",
    "import numpy as np\n",
    "import pandas as pd\n",
    "from statsmodels.distributions.empirical_distribution import ECDF\n",
    "import yfinance as yf"
   ]
  },
  {
   "cell_type": "code",
   "execution_count": 2,
   "metadata": {},
   "outputs": [
    {
     "data": {
      "image/png": "[encoded data removed]",
      "text/plain": [
       "<Figure size 576x288 with 1 Axes>"
      ]
     },
     "metadata": {
      "needs_background": "light"
     },
     "output_type": "display_data"
    }
   ],
   "source": [
    "np.random.seed(100)\n",
    "\n",
    "mu = 0\n",
    "sigma = 1\n",
    "n_bins = 50\n",
    "x = np.random.normal(mu, sigma, size=50)\n",
    "\n",
    "fig, ax = plt.subplots(figsize=(8, 4))\n",
    "\n",
    "# plot the cumulative histogram\n",
    "n, bins, patches = ax.hist(x, n_bins, density=True, histtype='step',\n",
    "                           cumulative=True, label='Empirical')\n",
    "\n",
    "# Add a line showing the expected distribution.\n",
    "y = ((1 / (np.sqrt(2 * np.pi) * sigma)) *\n",
    "     np.exp(-0.5 * (1 / sigma * (bins - mu))**2))\n",
    "y = y.cumsum()\n",
    "y /= y[-1]\n",
    "\n",
    "ax.plot(bins, y, 'k--', linewidth=1.5, label='Theoretical')\n",
    "\n",
    "# tidy up the figure\n",
    "ax.grid(True)\n",
    "ax.legend(loc='right')\n",
    "ax.set_title('Cumulative step histograms')\n",
    "ax.set_xlabel('Sample')\n",
    "ax.set_ylabel('Likelihood of occurrence')\n",
    "\n",
    "plt.show()"
   ]
  },
  {
   "cell_type": "markdown",
   "metadata": {},
   "source": [
    "### Characteristics and Limitations of the K-S Test\t"
   ]
  },
  {
   "cell_type": "markdown",
   "metadata": {},
   "source": [
    "An attractive feature of this test is that the distribution of the K-S test statistic itself does not depend on the underlying cumulative distribution function being tested. Another advantage is that it is an exact test (the chi-square goodness-of-fit test depends on an adequate sample size for the approximations to be valid). Despite these advantages, the K-S test has several important limitations:\n",
    "\n",
    "1. It only applies to continuous distributions.\n",
    "\n",
    "2. It tends to be more sensitive near the center of the distribution than at the tails.\n",
    "\n",
    "3. The distribution must be fully specified. That is, if location, scale, and shape parameters are estimated from the data, the critical region of the K-S test is no longer valid. It typically must be determined by simulation.\n",
    "\n",
    "Several goodness-of-fit tests, such as the Anderson-Darling test and the Cramer Von-Mises test, are refinements of the K-S test. As these refined tests are generally considered to be more powerful than the original K-S test, many analysts prefer them. Also, the advantage for the K-S test of having the critical values be indpendendent of the underlying distribution is not as much of an advantage as first appears. This is due to limitation 3 above (i.e., the distribution parameters are typically not known and have to be estimated from the data). So in practice, the critical values for the K-S test have to be determined by simulation just as for the Anderson-Darling and Cramer Von-Mises (and related) tests.\n",
    "\n",
    "Note that although the K-S test is typically developed in the context of continuous distributions for uncensored and ungrouped data, the test has in fact been extended to discrete distributions and to censored and grouped data."
   ]
  },
  {
   "cell_type": "markdown",
   "metadata": {},
   "source": [
    "#### Example: Goldman Sachs\n",
    "The goal is to determine whether or not the simple return of the stock of the company goldman sachs is a normal distribution."
   ]
  },
  {
   "cell_type": "code",
   "execution_count": 3,
   "metadata": {},
   "outputs": [],
   "source": [
    "pandas_type = \"pandas.core.frame.DataFrame\""
   ]
  },
  {
   "cell_type": "code",
   "execution_count": 4,
   "metadata": {},
   "outputs": [],
   "source": [
    "def download_stock_data(ticker: str) -> (str, pandas_type):\n",
    "    \"\"\"\n",
    "    Downloads and reshapes stock data based on the yfinance library.\n",
    "    \"\"\"\n",
    "    stock_data = yf.download(ticker)\n",
    "    columns_to_remove = [col for col in stock_data.columns if col != \"Adj Close\"] #lists all column not 'Adj Close'\n",
    "    stock = stock_data.drop(columns = columns_to_remove)\n",
    "    stock = stock[-260:] #260 is the expected number of business days in 1 year (conventional time frame to compute VaR)\n",
    "    return ticker, stock"
   ]
  },
  {
   "cell_type": "code",
   "execution_count": 5,
   "metadata": {},
   "outputs": [],
   "source": [
    "def calculate_stock_return(stock: pandas_type) -> pandas_type:\n",
    "    \"\"\"\n",
    "    Calculates daily returns over the chosen timeframe.\n",
    "    Plots stock returns.\n",
    "    \"\"\"\n",
    "    stock = stock[1:].values / stock[:-1] - 1 #computes simple stock returns\n",
    "    stock.dropna() #drops all NAs\n",
    "    return stock"
   ]
  },
  {
   "cell_type": "code",
   "execution_count": 6,
   "metadata": {},
   "outputs": [],
   "source": [
    "def standard_deviation(stock: pandas_type) -> float:\n",
    "    \"\"\"\n",
    "    Calculates standard deviation of stock over the chosen timeframe.\n",
    "    \"\"\"\n",
    "    mean = stock.mean()\n",
    "    stock = (stock - mean)**2\n",
    "    return math.sqrt(stock.sum()/(stock.count()-1))"
   ]
  },
  {
   "cell_type": "code",
   "execution_count": 7,
   "metadata": {},
   "outputs": [],
   "source": [
    "def cumulative_normal_distribution(ecdf, mu, sigma):\n",
    "    \"\"\"\n",
    "    Returns the selected parent distribution (i.e. normal distribution)\n",
    "    to be compared to the build empirical distribution function EDF\n",
    "    \"\"\"\n",
    "    y = ((1 / (np.sqrt(2 * np.pi) * sigma)) *\n",
    "    np.exp(-0.5 * (1 / sigma * (ecdf - mu[0]))**2))\n",
    "    y = y.cumsum()\n",
    "    y /= y[-1]\n",
    "    return y"
   ]
  },
  {
   "cell_type": "code",
   "execution_count": 8,
   "metadata": {},
   "outputs": [
    {
     "name": "stdout",
     "output_type": "stream",
     "text": [
      "[*********************100%***********************]  1 of 1 downloaded\n"
     ]
    }
   ],
   "source": [
    "stock = download_stock_data(\"GS\")\n",
    "stock_return = calculate_stock_return(stock[1])\n",
    "stock_standard_deviation = standard_deviation(stock_return)"
   ]
  },
  {
   "cell_type": "code",
   "execution_count": 9,
   "metadata": {},
   "outputs": [
    {
     "data": {
      "image/png": "[encoded data removed]",
      "text/plain": [
       "<Figure size 1008x252 with 1 Axes>"
      ]
     },
     "metadata": {
      "needs_background": "light"
     },
     "output_type": "display_data"
    }
   ],
   "source": [
    "edf = sorted(list(stock_return.iloc[:,0])) # ecdf.y[1:] == cum_dist_true_values should yield false\n",
    "len_edf = len(edf)\n",
    "cum_dist_edf = np.arange(1, len_edf+1) / len_edf\n",
    "\n",
    "mu = stock_return.mean()\n",
    "sigma = stock_standard_deviation\n",
    "\n",
    "y_edf = cumulative_normal_distribution(edf, mu, sigma)\n",
    "\n",
    "fig, ax = plt.subplots(figsize=(14, 3.5), tight_layout=True)\n",
    "ax.plot(edf, y_edf, linewidth = 2)\n",
    "ax.plot(edf, cum_dist_edf, linewidth = 2)\n",
    "ax.set_xlabel(\"Simple returns\", fontsize=16)\n",
    "ax.set_ylabel(\"Cumulative distribution\\nof simple returns\", fontsize=16)\n",
    "plt.show()"
   ]
  },
  {
   "cell_type": "markdown",
   "metadata": {},
   "source": [
    "### General Steps"
   ]
  },
  {
   "cell_type": "markdown",
   "metadata": {},
   "source": [
    "The general steps to run the test are:\n",
    "\n",
    "1. Create an EDF for your sample data (see Empirical Distribution Function for steps),\n",
    "2. Specify a parent distribution (i.e. one that you want to compare your EDF to),\n",
    "3. Graph the two distributions together.\n",
    "4. Measure the greatest vertical distance between the two graphs.\n",
    "5. Calculate the test statistic.\n",
    "6. Find the critical value in the KS table.\n",
    "7. Compare to the critical value.\n",
    "\n",
    "#### Calculating the Test Statistic\n",
    "The K-S test statistic measures the largest distance between the EDF $F_{data}(x)$ and the theoretical function $F_0(x)$, measured in a vertical direction (Kolmogorov as cited in Stephens 1992). The test statistic is given by:\n",
    "\n",
    "$D = sup|F_{0}(x)-F_{data}(x)|$\n",
    "\n",
    "Where (for a two-tailed test):\n",
    "\n",
    "1. $F_0(x)$ = the cdf of the hypothesized distribution,\n",
    "2. $F_{data}(x)$ = the empirical distribution function of your observed data.\n",
    "\n",
    "For one-tailed test, omit the absolute values from the formula.\n",
    "If D is greater than the critical value, the null hypothesis is rejected. Critical values for D are found in the K-S Test P-Value Table below:"
   ]
  },
  {
   "cell_type": "code",
   "execution_count": 10,
   "metadata": {},
   "outputs": [
    {
     "data": {
      "image/png": "[encoded data removed]",
      "text/plain": [
       "<IPython.core.display.Image object>"
      ]
     },
     "execution_count": 10,
     "metadata": {},
     "output_type": "execute_result"
    }
   ],
   "source": [
    "Image(filename='images/p-value-k-s-test.png')"
   ]
  },
  {
   "cell_type": "markdown",
   "metadata": {},
   "source": [
    "### Computing D"
   ]
  },
  {
   "cell_type": "code",
   "execution_count": 11,
   "metadata": {},
   "outputs": [
    {
     "name": "stdout",
     "output_type": "stream",
     "text": [
      "0.08265250449733397\n"
     ]
    }
   ],
   "source": [
    "D = np.abs(np.array(y_edf) - np.array(cum_dist_edf))\n",
    "print(D.max())"
   ]
  },
  {
   "cell_type": "markdown",
   "metadata": {},
   "source": [
    "For a α of 0.05, the value that the maximum of D should not be greater than is:"
   ]
  },
  {
   "cell_type": "code",
   "execution_count": 12,
   "metadata": {},
   "outputs": [
    {
     "name": "stdout",
     "output_type": "stream",
     "text": [
      "0.08450628817616321\n"
     ]
    }
   ],
   "source": [
    "p_value = 1.36/math.sqrt(len(cum_dist_edf))\n",
    "print(p_value)"
   ]
  },
  {
   "cell_type": "code",
   "execution_count": 13,
   "metadata": {},
   "outputs": [
    {
     "data": {
      "text/plain": [
       "False"
      ]
     },
     "execution_count": 13,
     "metadata": {},
     "output_type": "execute_result"
    }
   ],
   "source": [
    "D.max() > p_value"
   ]
  },
  {
   "cell_type": "markdown",
   "metadata": {},
   "source": [
    "##### The null hypothesis (that the distributions of the stock returns of Goldman Sachs and the normal distribution are the same) is accepted."
   ]
  }
 ],
 "metadata": {
  "kernelspec": {
   "display_name": "Python 3",
   "language": "python",
   "name": "python3"
  },
  "language_info": {
   "codemirror_mode": {
    "name": "ipython",
    "version": 3
   },
   "file_extension": ".py",
   "mimetype": "text/x-python",
   "name": "python",
   "nbconvert_exporter": "python",
   "pygments_lexer": "ipython3",
   "version": "3.7.4"
  }
 },
 "nbformat": 4,
 "nbformat_minor": 2
}
