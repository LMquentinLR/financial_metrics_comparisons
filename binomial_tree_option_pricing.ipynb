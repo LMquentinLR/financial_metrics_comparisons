{
 "cells": [
  {
   "cell_type": "markdown",
   "metadata": {},
   "source": [
    "### Binomial Tree Option Pricing\n",
    "\n",
    "Formula explicited in the paper \"Implementing Option Pricing Models using Python and Cython\" by Sanjiv Das and Brian Granger.\n",
    "\n",
    "It uses the Jarrow-Rudd model. It is oth widely known by students in finance and numerically intensive, requiring backward recursion on a tree."
   ]
  },
  {
   "cell_type": "code",
   "execution_count": 1,
   "metadata": {},
   "outputs": [],
   "source": [
    "import numpy as np\n",
    "import math"
   ]
  },
  {
   "cell_type": "code",
   "execution_count": 2,
   "metadata": {},
   "outputs": [],
   "source": [
    "def jarrow_rudd(initial_stock_price, strike_price, expiration_time, volatility,\n",
    "                risk_free_rate, option_type, option_exercise=False, binomial_steps=10):\n",
    "    \"\"\"\n",
    "    Implementation of the Jarrow-Rudd model to price option using a binomial tree.\n",
    "    <param :option_type:> Integer ; 1 for Call and -1 for Put option\n",
    "    <param :option_exercise:> Boolean ; True: American Option, False: European Option\n",
    "    \"\"\"\n",
    "    time_step = expiration_time/binomial_steps\n",
    "    \n",
    "    # option price calculated at end of time_step based on up or down movement\n",
    "    up_value = math.exp((risk_free_rate-0.5*math.pow(volatility,2))*time_step+volatility*math.sqrt(time_step))\n",
    "    down_value = math.exp((risk_free_rate-0.5*math.pow(volatility,2))*time_step-volatility*math.sqrt(time_step))\n",
    "    \n",
    "    drift = math.exp(risk_free_rate*time_step)\n",
    "    probability = (drift - down_value)/(up_value-down_value)\n",
    "    \n",
    "    # initializes the step table for the underlying stock value with numpy\n",
    "    stock_value = np.zeros((binomial_steps+1,binomial_steps+1))\n",
    "    # initializes the step table for the option value with numpy\n",
    "    option_value = np.zeros((binomial_steps+1,binomial_steps+1))\n",
    "    \n",
    "    # initializes the starting value of the step table\n",
    "    stock_value[0,0]=initial_stock_price\n",
    "    \n",
    "    # calculates the up and down movements of the underlying stock price step table\n",
    "    for row in range(1,binomial_steps+1):\n",
    "        stock_value[row,0] = stock_value[row-1,0]*up_value\n",
    "        for column in range(1,row+1):\n",
    "            stock_value[row,column]= stock_value[row-1,column-1]*down_value\n",
    "    \n",
    "    # apply the option function to the underlying stock price step table\n",
    "    for column in range(binomial_steps+1):\n",
    "        option_value[binomial_steps,column] = max(0, option_type * \n",
    "                                                  (stock_value[binomial_steps,column]-strike_price))\n",
    "    # backward calculation of option price\n",
    "    for row in range(binomial_steps-1,-1,-1):\n",
    "        for column in range(row+1):\n",
    "            option_value[row,column] = (probability*option_value[row+1,column]+\n",
    "                                        (1-probability)*option_value[row+1,column+1])/drift\n",
    "            if option_exercise:\n",
    "                option_value[row,column] = max(option_value[row,column],option_type * \n",
    "                                               (stock_value[row,column]-strike_price))\n",
    "    # returns the earliest calculated value of the option price\n",
    "    return option_value[0,0]"
   ]
  },
  {
   "cell_type": "code",
   "execution_count": 3,
   "metadata": {
    "scrolled": true
   },
   "outputs": [
    {
     "data": {
      "text/plain": [
       "13.296923134168859"
      ]
     },
     "execution_count": 3,
     "metadata": {},
     "output_type": "execute_result"
    }
   ],
   "source": [
    "jarrow_rudd(100.0,100.0,1.0,0.3,0.03,1,False, 100)"
   ]
  }
 ],
 "metadata": {
  "kernelspec": {
   "display_name": "Python 3",
   "language": "python",
   "name": "python3"
  },
  "language_info": {
   "codemirror_mode": {
    "name": "ipython",
    "version": 3
   },
   "file_extension": ".py",
   "mimetype": "text/x-python",
   "name": "python",
   "nbconvert_exporter": "python",
   "pygments_lexer": "ipython3",
   "version": "3.7.4"
  }
 },
 "nbformat": 4,
 "nbformat_minor": 2
}
